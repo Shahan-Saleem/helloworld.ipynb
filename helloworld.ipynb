{
  "nbformat": 4,
  "nbformat_minor": 0,
  "metadata": {
    "colab": {
      "provenance": [],
      "authorship_tag": "ABX9TyNxaIQjJVX3efYrJVTKMJkp",
      "include_colab_link": true
    },
    "kernelspec": {
      "name": "python3",
      "display_name": "Python 3"
    },
    "language_info": {
      "name": "python"
    }
  },
  "cells": [
    {
      "cell_type": "markdown",
      "metadata": {
        "id": "view-in-github",
        "colab_type": "text"
      },
      "source": [
        "<a href=\"https://colab.research.google.com/github/Shahan-Saleem/helloworld.ipynb/blob/main/helloworld.ipynb\" target=\"_parent\"><img src=\"https://colab.research.google.com/assets/colab-badge.svg\" alt=\"Open In Colab\"/></a>"
      ]
    },
    {
      "cell_type": "code",
      "execution_count": 1,
      "metadata": {
        "colab": {
          "base_uri": "https://localhost:8080/"
        },
        "id": "d9bfwh0W_D4u",
        "outputId": "12dfe80b-f9e0-4f8a-cb14-324e352cd24f"
      },
      "outputs": [
        {
          "output_type": "stream",
          "name": "stdout",
          "text": [
            "Hello, Mom! I hope you're having a wonderful day.\n"
          ]
        }
      ],
      "source": [
        "# prompt: say hello to my mother\n",
        "\n",
        "def say_hello_to_mother():\n",
        "  \"\"\"Prints a friendly greeting to your mother.\"\"\"\n",
        "  print(\"Hello, Mom! I hope you're having a wonderful day.\")\n",
        "\n",
        "say_hello_to_mother()"
      ]
    },
    {
      "cell_type": "code",
      "source": [
        "# prompt: Say hello to someone you love\n",
        "\n",
        "def say_hello_to_mother():\n",
        "  \"\"\"Prints a friendly greeting to your mother.\"\"\"\n",
        "  print(\"Hello, Mom! I hope you're having a wonderful day.\")\n",
        "\n",
        "def say_hello_to_loved_one(name):\n",
        "  \"\"\"Prints a friendly greeting to a loved one.\"\"\"\n",
        "  print(f\"Hello, {name}! I hope you're having a wonderful day.\")\n",
        "\n",
        "# Call the function to greet your mother.\n",
        "say_hello_to_mother()\n",
        "\n",
        "# Call the function to greet someone else you love.\n",
        "say_hello_to_loved_one(\"Dad\") # Replace \"Dad\" with the name of your loved one"
      ],
      "metadata": {
        "colab": {
          "base_uri": "https://localhost:8080/"
        },
        "id": "hMJSNKMPW0v1",
        "outputId": "b4d07c75-bb77-401d-fd6b-09ddbbcece7d"
      },
      "execution_count": 3,
      "outputs": [
        {
          "output_type": "stream",
          "name": "stdout",
          "text": [
            "Hello, Mom! I hope you're having a wonderful day.\n",
            "Hello, Dad! I hope you're having a wonderful day.\n"
          ]
        }
      ]
    },
    {
      "cell_type": "code",
      "source": [
        "print (\"hi sir zia\""
      ],
      "metadata": {
        "colab": {
          "base_uri": "https://localhost:8080/",
          "height": 106
        },
        "id": "Q2vr3TvUaB6E",
        "outputId": "4bcedc89-05c3-4daa-b610-05f8d8f9bde2"
      },
      "execution_count": 5,
      "outputs": [
        {
          "output_type": "error",
          "ename": "SyntaxError",
          "evalue": "incomplete input (<ipython-input-5-dcd166814d66>, line 1)",
          "traceback": [
            "\u001b[0;36m  File \u001b[0;32m\"<ipython-input-5-dcd166814d66>\"\u001b[0;36m, line \u001b[0;32m1\u001b[0m\n\u001b[0;31m    print (\"hi sir zia\"\u001b[0m\n\u001b[0m                       ^\u001b[0m\n\u001b[0;31mSyntaxError\u001b[0m\u001b[0;31m:\u001b[0m incomplete input\n"
          ]
        }
      ]
    },
    {
      "cell_type": "code",
      "source": [
        "# prompt: please correct this error in the previous cell\n",
        "\n",
        "def say_hello_to_mother():\n",
        "  \"\"\"Prints a friendly greeting to your mother.\"\"\"\n",
        "  print(\"Hello, Mom! I hope you're having a wonderful day.\")\n",
        "\n",
        "say_hello_to_mother()\n",
        "\n",
        "def say_hello_to_mother():\n",
        "  \"\"\"Prints a friendly greeting to your mother.\"\"\"\n",
        "  print(\"Hello, Mom! I hope you're having a wonderful day.\")\n",
        "\n",
        "def say_hello_to_loved_one(name):\n",
        "  \"\"\"Prints a friendly greeting to a loved one.\"\"\"\n",
        "  print(f\"Hello, {name}! I hope you're having a wonderful day.\")\n",
        "\n",
        "# Call the function to greet your mother.\n",
        "say_hello_to_mother()\n",
        "\n",
        "# Call the function to greet someone else you love.\n",
        "say_hello_to_loved_one(\"Dad\") # Replace \"Dad\" with the name of your loved one\n",
        "print(\"hi sir zia\")"
      ],
      "metadata": {
        "colab": {
          "base_uri": "https://localhost:8080/"
        },
        "id": "aKJEC7S-aohG",
        "outputId": "6a5019cf-525b-449c-bf79-75b625c73fa7"
      },
      "execution_count": 6,
      "outputs": [
        {
          "output_type": "stream",
          "name": "stdout",
          "text": [
            "Hello, Mom! I hope you're having a wonderful day.\n",
            "Hello, Mom! I hope you're having a wonderful day.\n",
            "Hello, Dad! I hope you're having a wonderful day.\n",
            "hi sir zia\n"
          ]
        }
      ]
    },
    {
      "cell_type": "code",
      "source": [
        "# prompt: Write code that displays your favorite color\n",
        "\n",
        "favorite_color = \"blue\"  # Replace with your actual favorite color\n",
        "print(\"My favorite color is\", favorite_color)"
      ],
      "metadata": {
        "colab": {
          "base_uri": "https://localhost:8080/"
        },
        "id": "kytoBJycec1M",
        "outputId": "11f5f51b-a3bb-4f37-acbe-320517b16be3"
      },
      "execution_count": 8,
      "outputs": [
        {
          "output_type": "stream",
          "name": "stdout",
          "text": [
            "My favorite color is blue\n"
          ]
        }
      ]
    },
    {
      "cell_type": "code",
      "source": [
        "# prompt: Alter your code from the previous cell so that it will cause an error when you run it\n",
        "\n",
        "def say_hello_to_mother():\n",
        "  \"\"\"Prints a friendly greeting to your mother.\"\"\"\n",
        "  print(\"Hello, Mom! I hope you're having a wonderful day.\")\n",
        "\n",
        "say_hello_to_mother()\n",
        "\n",
        "def say_hello_to_mother():\n",
        "  \"\"\"Prints a friendly greeting to your mother.\"\"\"\n",
        "  print(\"Hello, Mom! I hope you're having a wonderful day.\")\n",
        "\n",
        "def say_hello_to_loved_one(name):\n",
        "  \"\"\"Prints a friendly greeting to a loved one.\"\"\"\n",
        "  print(f\"Hello, {name}! I hope you're having a wonderful day.\")\n",
        "\n",
        "# Call the function to greet your mother.\n",
        "say_hello_to_mother()\n",
        "\n",
        "# Call the function to greet someone else you love.\n",
        "say_hello_to_loved_one(\"Dad\") # Replace \"Dad\" with the name of your loved one\n",
        "print (\"hi sir zia\") # This will cause an error, the string is not closed.\n",
        "\n",
        "def say_hello_to_mother():\n",
        "  \"\"\"Prints a friendly greeting to your mother.\"\"\"\n",
        "  print(\"Hello, Mom! I hope you're having a wonderful day.\")\n",
        "\n",
        "say_hello_to_mother()\n",
        "\n",
        "def say_hello_to_mother():\n",
        "  \"\"\"Prints a friendly greeting to your mother.\"\"\"\n",
        "  print(\"Hello, Mom! I hope you're having a wonderful day.\")\n",
        "\n",
        "def say_hello_to_loved_one(name):\n",
        "  \"\"\"Prints a friendly greeting to a loved one.\"\"\"\n",
        "  print(f\"Hello, {name}! I hope you're having a wonderful day.\")\n",
        "\n",
        "# Call the function to greet your mother.\n",
        "say_hello_to_mother()\n",
        "\n",
        "# Call the function to greet someone else you love.\n",
        "say_hello_to_loved_one(\"Dad\") # Replace \"Dad\" with the name of your loved one\n",
        "print(\"hi sir zia\")\n",
        "\n",
        "favorite_color = \"blue\"  # Replace with your actual favorite color\n",
        "print(\"My favorite color is\", favorite_color)"
      ],
      "metadata": {
        "colab": {
          "base_uri": "https://localhost:8080/"
        },
        "id": "24YqblGGo-II",
        "outputId": "f9133e58-8c92-433a-c059-4a39aac5c0b8"
      },
      "execution_count": 9,
      "outputs": [
        {
          "output_type": "stream",
          "name": "stdout",
          "text": [
            "Hello, Mom! I hope you're having a wonderful day.\n",
            "Hello, Mom! I hope you're having a wonderful day.\n",
            "Hello, Dad! I hope you're having a wonderful day.\n",
            "hi sir zia\n",
            "Hello, Mom! I hope you're having a wonderful day.\n",
            "Hello, Mom! I hope you're having a wonderful day.\n",
            "Hello, Dad! I hope you're having a wonderful day.\n",
            "hi sir zia\n",
            "My favorite color is blue\n"
          ]
        }
      ]
    }
  ]
}